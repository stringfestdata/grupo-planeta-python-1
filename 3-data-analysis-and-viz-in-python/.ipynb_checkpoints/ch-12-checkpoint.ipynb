{
 "cells": [
  {
   "cell_type": "code",
   "execution_count": 1,
   "metadata": {},
   "outputs": [
    {
     "data": {
      "text/html": [
       "<div>\n",
       "<style scoped>\n",
       "    .dataframe tbody tr th:only-of-type {\n",
       "        vertical-align: middle;\n",
       "    }\n",
       "\n",
       "    .dataframe tbody tr th {\n",
       "        vertical-align: top;\n",
       "    }\n",
       "\n",
       "    .dataframe thead th {\n",
       "        text-align: right;\n",
       "    }\n",
       "</style>\n",
       "<table border=\"1\" class=\"dataframe\">\n",
       "  <thead>\n",
       "    <tr style=\"text-align: right;\">\n",
       "      <th></th>\n",
       "      <th>tmathssk</th>\n",
       "      <th>treadssk</th>\n",
       "      <th>classk</th>\n",
       "      <th>totexpk</th>\n",
       "      <th>sex</th>\n",
       "      <th>freelunk</th>\n",
       "      <th>race</th>\n",
       "      <th>schidkn</th>\n",
       "    </tr>\n",
       "  </thead>\n",
       "  <tbody>\n",
       "    <tr>\n",
       "      <th>0</th>\n",
       "      <td>473</td>\n",
       "      <td>447</td>\n",
       "      <td>small.class</td>\n",
       "      <td>7</td>\n",
       "      <td>girl</td>\n",
       "      <td>no</td>\n",
       "      <td>white</td>\n",
       "      <td>63</td>\n",
       "    </tr>\n",
       "    <tr>\n",
       "      <th>1</th>\n",
       "      <td>536</td>\n",
       "      <td>450</td>\n",
       "      <td>small.class</td>\n",
       "      <td>21</td>\n",
       "      <td>girl</td>\n",
       "      <td>no</td>\n",
       "      <td>black</td>\n",
       "      <td>20</td>\n",
       "    </tr>\n",
       "    <tr>\n",
       "      <th>2</th>\n",
       "      <td>463</td>\n",
       "      <td>439</td>\n",
       "      <td>regular.with.aide</td>\n",
       "      <td>0</td>\n",
       "      <td>boy</td>\n",
       "      <td>yes</td>\n",
       "      <td>black</td>\n",
       "      <td>19</td>\n",
       "    </tr>\n",
       "    <tr>\n",
       "      <th>3</th>\n",
       "      <td>559</td>\n",
       "      <td>448</td>\n",
       "      <td>regular</td>\n",
       "      <td>16</td>\n",
       "      <td>boy</td>\n",
       "      <td>no</td>\n",
       "      <td>white</td>\n",
       "      <td>69</td>\n",
       "    </tr>\n",
       "    <tr>\n",
       "      <th>4</th>\n",
       "      <td>489</td>\n",
       "      <td>447</td>\n",
       "      <td>small.class</td>\n",
       "      <td>5</td>\n",
       "      <td>boy</td>\n",
       "      <td>yes</td>\n",
       "      <td>white</td>\n",
       "      <td>79</td>\n",
       "    </tr>\n",
       "  </tbody>\n",
       "</table>\n",
       "</div>"
      ],
      "text/plain": [
       "   tmathssk  treadssk             classk  totexpk   sex freelunk   race  \\\n",
       "0       473       447        small.class        7  girl       no  white   \n",
       "1       536       450        small.class       21  girl       no  black   \n",
       "2       463       439  regular.with.aide        0   boy      yes  black   \n",
       "3       559       448            regular       16   boy       no  white   \n",
       "4       489       447        small.class        5   boy      yes  white   \n",
       "\n",
       "   schidkn  \n",
       "0       63  \n",
       "1       20  \n",
       "2       19  \n",
       "3       69  \n",
       "4       79  "
      ]
     },
     "execution_count": 1,
     "metadata": {},
     "output_type": "execute_result"
    }
   ],
   "source": [
    "import pandas as pd\n",
    "import seaborn as sns\n",
    "import matplotlib.pyplot as plt\n",
    "\n",
    "star = pd.read_excel('datasets/star/star.xlsx')\n",
    "star.head()"
   ]
  },
  {
   "cell_type": "code",
   "execution_count": 2,
   "metadata": {},
   "outputs": [
    {
     "data": {
      "text/plain": [
       "pandas.core.series.Series"
      ]
     },
     "execution_count": 2,
     "metadata": {},
     "output_type": "execute_result"
    }
   ],
   "source": [
    "math_scores = star['tmathssk']\n",
    "type(math_scores)"
   ]
  },
  {
   "cell_type": "code",
   "execution_count": 3,
   "metadata": {},
   "outputs": [
    {
     "data": {
      "text/plain": [
       "pandas.core.frame.DataFrame"
      ]
     },
     "execution_count": 3,
     "metadata": {},
     "output_type": "execute_result"
    }
   ],
   "source": [
    "math_scores = star[['tmathssk']]\n",
    "type(math_scores)"
   ]
  },
  {
   "cell_type": "code",
   "execution_count": 4,
   "metadata": {},
   "outputs": [
    {
     "data": {
      "text/plain": [
       "Index(['tmathssk', 'treadssk', 'classk', 'totexpk', 'schidkn'], dtype='object')"
      ]
     },
     "execution_count": 4,
     "metadata": {},
     "output_type": "execute_result"
    }
   ],
   "source": [
    "star = star[['tmathssk','treadssk','classk','totexpk','schidkn']]\n",
    "star.columns"
   ]
  },
  {
   "cell_type": "code",
   "execution_count": 5,
   "metadata": {},
   "outputs": [
    {
     "data": {
      "text/plain": [
       "Index(['tmathssk', 'treadssk', 'classk', 'totexpk'], dtype='object')"
      ]
     },
     "execution_count": 5,
     "metadata": {},
     "output_type": "execute_result"
    }
   ],
   "source": [
    "star = star.drop('schidkn',axis=1)\n",
    "star.columns"
   ]
  },
  {
   "cell_type": "code",
   "execution_count": 6,
   "metadata": {},
   "outputs": [
    {
     "data": {
      "text/html": [
       "<div>\n",
       "<style scoped>\n",
       "    .dataframe tbody tr th:only-of-type {\n",
       "        vertical-align: middle;\n",
       "    }\n",
       "\n",
       "    .dataframe tbody tr th {\n",
       "        vertical-align: top;\n",
       "    }\n",
       "\n",
       "    .dataframe thead th {\n",
       "        text-align: right;\n",
       "    }\n",
       "</style>\n",
       "<table border=\"1\" class=\"dataframe\">\n",
       "  <thead>\n",
       "    <tr style=\"text-align: right;\">\n",
       "      <th></th>\n",
       "      <th>tmathssk</th>\n",
       "      <th>treadssk</th>\n",
       "      <th>classk</th>\n",
       "      <th>totexpk</th>\n",
       "      <th>new_column</th>\n",
       "    </tr>\n",
       "  </thead>\n",
       "  <tbody>\n",
       "    <tr>\n",
       "      <th>0</th>\n",
       "      <td>473</td>\n",
       "      <td>447</td>\n",
       "      <td>small.class</td>\n",
       "      <td>7</td>\n",
       "      <td>920</td>\n",
       "    </tr>\n",
       "    <tr>\n",
       "      <th>1</th>\n",
       "      <td>536</td>\n",
       "      <td>450</td>\n",
       "      <td>small.class</td>\n",
       "      <td>21</td>\n",
       "      <td>986</td>\n",
       "    </tr>\n",
       "    <tr>\n",
       "      <th>2</th>\n",
       "      <td>463</td>\n",
       "      <td>439</td>\n",
       "      <td>regular.with.aide</td>\n",
       "      <td>0</td>\n",
       "      <td>902</td>\n",
       "    </tr>\n",
       "    <tr>\n",
       "      <th>3</th>\n",
       "      <td>559</td>\n",
       "      <td>448</td>\n",
       "      <td>regular</td>\n",
       "      <td>16</td>\n",
       "      <td>1007</td>\n",
       "    </tr>\n",
       "    <tr>\n",
       "      <th>4</th>\n",
       "      <td>489</td>\n",
       "      <td>447</td>\n",
       "      <td>small.class</td>\n",
       "      <td>5</td>\n",
       "      <td>936</td>\n",
       "    </tr>\n",
       "  </tbody>\n",
       "</table>\n",
       "</div>"
      ],
      "text/plain": [
       "   tmathssk  treadssk             classk  totexpk  new_column\n",
       "0       473       447        small.class        7         920\n",
       "1       536       450        small.class       21         986\n",
       "2       463       439  regular.with.aide        0         902\n",
       "3       559       448            regular       16        1007\n",
       "4       489       447        small.class        5         936"
      ]
     },
     "execution_count": 6,
     "metadata": {},
     "output_type": "execute_result"
    }
   ],
   "source": [
    "star['new_column'] = star['tmathssk'] + star['treadssk']\n",
    "star.head()"
   ]
  },
  {
   "cell_type": "code",
   "execution_count": 7,
   "metadata": {},
   "outputs": [
    {
     "data": {
      "text/plain": [
       "Index(['tmathssk', 'treadssk', 'classk', 'totexpk', 'ttl_score'], dtype='object')"
      ]
     },
     "execution_count": 7,
     "metadata": {},
     "output_type": "execute_result"
    }
   ],
   "source": [
    "star = star.rename(columns = {'new_column':'ttl_score'})\n",
    "star.columns"
   ]
  },
  {
   "cell_type": "code",
   "execution_count": 8,
   "metadata": {
    "code_folding": []
   },
   "outputs": [
    {
     "data": {
      "text/html": [
       "<div>\n",
       "<style scoped>\n",
       "    .dataframe tbody tr th:only-of-type {\n",
       "        vertical-align: middle;\n",
       "    }\n",
       "\n",
       "    .dataframe tbody tr th {\n",
       "        vertical-align: top;\n",
       "    }\n",
       "\n",
       "    .dataframe thead th {\n",
       "        text-align: right;\n",
       "    }\n",
       "</style>\n",
       "<table border=\"1\" class=\"dataframe\">\n",
       "  <thead>\n",
       "    <tr style=\"text-align: right;\">\n",
       "      <th></th>\n",
       "      <th>tmathssk</th>\n",
       "      <th>treadssk</th>\n",
       "      <th>classk</th>\n",
       "      <th>totexpk</th>\n",
       "      <th>ttl_score</th>\n",
       "    </tr>\n",
       "  </thead>\n",
       "  <tbody>\n",
       "    <tr>\n",
       "      <th>309</th>\n",
       "      <td>320</td>\n",
       "      <td>360</td>\n",
       "      <td>regular</td>\n",
       "      <td>6</td>\n",
       "      <td>680</td>\n",
       "    </tr>\n",
       "    <tr>\n",
       "      <th>1470</th>\n",
       "      <td>320</td>\n",
       "      <td>315</td>\n",
       "      <td>regular</td>\n",
       "      <td>3</td>\n",
       "      <td>635</td>\n",
       "    </tr>\n",
       "    <tr>\n",
       "      <th>2326</th>\n",
       "      <td>339</td>\n",
       "      <td>388</td>\n",
       "      <td>regular</td>\n",
       "      <td>6</td>\n",
       "      <td>727</td>\n",
       "    </tr>\n",
       "    <tr>\n",
       "      <th>2820</th>\n",
       "      <td>354</td>\n",
       "      <td>398</td>\n",
       "      <td>regular</td>\n",
       "      <td>6</td>\n",
       "      <td>752</td>\n",
       "    </tr>\n",
       "    <tr>\n",
       "      <th>4925</th>\n",
       "      <td>354</td>\n",
       "      <td>391</td>\n",
       "      <td>regular</td>\n",
       "      <td>8</td>\n",
       "      <td>745</td>\n",
       "    </tr>\n",
       "  </tbody>\n",
       "</table>\n",
       "</div>"
      ],
      "text/plain": [
       "      tmathssk  treadssk   classk  totexpk  ttl_score\n",
       "309        320       360  regular        6        680\n",
       "1470       320       315  regular        3        635\n",
       "2326       339       388  regular        6        727\n",
       "2820       354       398  regular        6        752\n",
       "4925       354       391  regular        8        745"
      ]
     },
     "execution_count": 8,
     "metadata": {},
     "output_type": "execute_result"
    }
   ],
   "source": [
    "star.sort_values(by=['classk','tmathssk']).head()"
   ]
  },
  {
   "cell_type": "code",
   "execution_count": 9,
   "metadata": {},
   "outputs": [
    {
     "data": {
      "text/html": [
       "<div>\n",
       "<style scoped>\n",
       "    .dataframe tbody tr th:only-of-type {\n",
       "        vertical-align: middle;\n",
       "    }\n",
       "\n",
       "    .dataframe tbody tr th {\n",
       "        vertical-align: top;\n",
       "    }\n",
       "\n",
       "    .dataframe thead th {\n",
       "        text-align: right;\n",
       "    }\n",
       "</style>\n",
       "<table border=\"1\" class=\"dataframe\">\n",
       "  <thead>\n",
       "    <tr style=\"text-align: right;\">\n",
       "      <th></th>\n",
       "      <th>tmathssk</th>\n",
       "      <th>treadssk</th>\n",
       "      <th>classk</th>\n",
       "      <th>totexpk</th>\n",
       "      <th>ttl_score</th>\n",
       "    </tr>\n",
       "  </thead>\n",
       "  <tbody>\n",
       "    <tr>\n",
       "      <th>724</th>\n",
       "      <td>626</td>\n",
       "      <td>474</td>\n",
       "      <td>regular</td>\n",
       "      <td>15</td>\n",
       "      <td>1100</td>\n",
       "    </tr>\n",
       "    <tr>\n",
       "      <th>1466</th>\n",
       "      <td>626</td>\n",
       "      <td>554</td>\n",
       "      <td>regular</td>\n",
       "      <td>11</td>\n",
       "      <td>1180</td>\n",
       "    </tr>\n",
       "    <tr>\n",
       "      <th>1634</th>\n",
       "      <td>626</td>\n",
       "      <td>580</td>\n",
       "      <td>regular</td>\n",
       "      <td>15</td>\n",
       "      <td>1206</td>\n",
       "    </tr>\n",
       "    <tr>\n",
       "      <th>2476</th>\n",
       "      <td>626</td>\n",
       "      <td>538</td>\n",
       "      <td>regular</td>\n",
       "      <td>20</td>\n",
       "      <td>1164</td>\n",
       "    </tr>\n",
       "    <tr>\n",
       "      <th>2495</th>\n",
       "      <td>626</td>\n",
       "      <td>522</td>\n",
       "      <td>regular</td>\n",
       "      <td>7</td>\n",
       "      <td>1148</td>\n",
       "    </tr>\n",
       "  </tbody>\n",
       "</table>\n",
       "</div>"
      ],
      "text/plain": [
       "      tmathssk  treadssk   classk  totexpk  ttl_score\n",
       "724        626       474  regular       15       1100\n",
       "1466       626       554  regular       11       1180\n",
       "1634       626       580  regular       15       1206\n",
       "2476       626       538  regular       20       1164\n",
       "2495       626       522  regular        7       1148"
      ]
     },
     "execution_count": 9,
     "metadata": {},
     "output_type": "execute_result"
    }
   ],
   "source": [
    "# Sort by class size ascending and math score descending\n",
    "star.sort_values(by=['classk','tmathssk'], ascending=[True,False]).head()"
   ]
  },
  {
   "cell_type": "code",
   "execution_count": 10,
   "metadata": {},
   "outputs": [
    {
     "data": {
      "text/plain": [
       "0     True\n",
       "1     True\n",
       "2    False\n",
       "3    False\n",
       "4     True\n",
       "Name: classk, dtype: bool"
      ]
     },
     "execution_count": 10,
     "metadata": {},
     "output_type": "execute_result"
    }
   ],
   "source": [
    "small_class = star['classk'] == 'small.class'\n",
    "small_class.head()"
   ]
  },
  {
   "cell_type": "code",
   "execution_count": 11,
   "metadata": {},
   "outputs": [
    {
     "data": {
      "text/plain": [
       "(1733, 5)"
      ]
     },
     "execution_count": 11,
     "metadata": {},
     "output_type": "execute_result"
    }
   ],
   "source": [
    "star_filtered = star[small_class]\n",
    "star_filtered.shape"
   ]
  },
  {
   "cell_type": "code",
   "execution_count": 12,
   "metadata": {},
   "outputs": [
    {
     "data": {
      "text/plain": [
       "(5748, 5)"
      ]
     },
     "execution_count": 12,
     "metadata": {},
     "output_type": "execute_result"
    }
   ],
   "source": [
    "star.shape"
   ]
  },
  {
   "cell_type": "code",
   "execution_count": 13,
   "metadata": {},
   "outputs": [
    {
     "data": {
      "text/plain": [
       "(233, 5)"
      ]
     },
     "execution_count": 13,
     "metadata": {},
     "output_type": "execute_result"
    }
   ],
   "source": [
    "star_filtered = star[star['treadssk'] >= 500]\n",
    "\n",
    "star_filtered.shape"
   ]
  },
  {
   "cell_type": "code",
   "execution_count": 14,
   "metadata": {},
   "outputs": [
    {
     "data": {
      "text/plain": [
       "(84, 5)"
      ]
     },
     "execution_count": 14,
     "metadata": {},
     "output_type": "execute_result"
    }
   ],
   "source": [
    "# Find all records with reading score at least 500 and in small class\n",
    "star_filtered = star[(star['treadssk']>=500) & (star['classk']=='small.class')]\n",
    "star_filtered.shape"
   ]
  },
  {
   "cell_type": "code",
   "execution_count": 15,
   "metadata": {},
   "outputs": [
    {
     "data": {
      "text/plain": [
       "<pandas.core.groupby.generic.DataFrameGroupBy object at 0x0000027BF25D4788>"
      ]
     },
     "execution_count": 15,
     "metadata": {},
     "output_type": "execute_result"
    }
   ],
   "source": [
    "star_grouped = star.groupby('classk')\n",
    "star_grouped"
   ]
  },
  {
   "cell_type": "code",
   "execution_count": 16,
   "metadata": {},
   "outputs": [
    {
     "data": {
      "text/html": [
       "<div>\n",
       "<style scoped>\n",
       "    .dataframe tbody tr th:only-of-type {\n",
       "        vertical-align: middle;\n",
       "    }\n",
       "\n",
       "    .dataframe tbody tr th {\n",
       "        vertical-align: top;\n",
       "    }\n",
       "\n",
       "    .dataframe thead th {\n",
       "        text-align: right;\n",
       "    }\n",
       "</style>\n",
       "<table border=\"1\" class=\"dataframe\">\n",
       "  <thead>\n",
       "    <tr style=\"text-align: right;\">\n",
       "      <th></th>\n",
       "      <th>tmathssk</th>\n",
       "    </tr>\n",
       "    <tr>\n",
       "      <th>classk</th>\n",
       "      <th></th>\n",
       "    </tr>\n",
       "  </thead>\n",
       "  <tbody>\n",
       "    <tr>\n",
       "      <th>regular</th>\n",
       "      <td>483.261000</td>\n",
       "    </tr>\n",
       "    <tr>\n",
       "      <th>regular.with.aide</th>\n",
       "      <td>483.009926</td>\n",
       "    </tr>\n",
       "    <tr>\n",
       "      <th>small.class</th>\n",
       "      <td>491.470283</td>\n",
       "    </tr>\n",
       "  </tbody>\n",
       "</table>\n",
       "</div>"
      ],
      "text/plain": [
       "                     tmathssk\n",
       "classk                       \n",
       "regular            483.261000\n",
       "regular.with.aide  483.009926\n",
       "small.class        491.470283"
      ]
     },
     "execution_count": 16,
     "metadata": {},
     "output_type": "execute_result"
    }
   ],
   "source": [
    "star_grouped[['tmathssk']].mean()"
   ]
  },
  {
   "cell_type": "code",
   "execution_count": 17,
   "metadata": {},
   "outputs": [
    {
     "data": {
      "text/html": [
       "<div>\n",
       "<style scoped>\n",
       "    .dataframe tbody tr th:only-of-type {\n",
       "        vertical-align: middle;\n",
       "    }\n",
       "\n",
       "    .dataframe tbody tr th {\n",
       "        vertical-align: top;\n",
       "    }\n",
       "\n",
       "    .dataframe thead th {\n",
       "        text-align: right;\n",
       "    }\n",
       "</style>\n",
       "<table border=\"1\" class=\"dataframe\">\n",
       "  <thead>\n",
       "    <tr style=\"text-align: right;\">\n",
       "      <th></th>\n",
       "      <th>ttl_score</th>\n",
       "    </tr>\n",
       "    <tr>\n",
       "      <th>totexpk</th>\n",
       "      <th></th>\n",
       "    </tr>\n",
       "  </thead>\n",
       "  <tbody>\n",
       "    <tr>\n",
       "      <th>0</th>\n",
       "      <td>1171</td>\n",
       "    </tr>\n",
       "    <tr>\n",
       "      <th>1</th>\n",
       "      <td>1133</td>\n",
       "    </tr>\n",
       "    <tr>\n",
       "      <th>2</th>\n",
       "      <td>1091</td>\n",
       "    </tr>\n",
       "    <tr>\n",
       "      <th>3</th>\n",
       "      <td>1203</td>\n",
       "    </tr>\n",
       "    <tr>\n",
       "      <th>4</th>\n",
       "      <td>1229</td>\n",
       "    </tr>\n",
       "  </tbody>\n",
       "</table>\n",
       "</div>"
      ],
      "text/plain": [
       "         ttl_score\n",
       "totexpk           \n",
       "0             1171\n",
       "1             1133\n",
       "2             1091\n",
       "3             1203\n",
       "4             1229"
      ]
     },
     "execution_count": 17,
     "metadata": {},
     "output_type": "execute_result"
    }
   ],
   "source": [
    "star.groupby('totexpk')[['ttl_score']].max().head()"
   ]
  },
  {
   "cell_type": "code",
   "execution_count": 18,
   "metadata": {},
   "outputs": [
    {
     "data": {
      "text/html": [
       "<div>\n",
       "<style scoped>\n",
       "    .dataframe tbody tr th:only-of-type {\n",
       "        vertical-align: middle;\n",
       "    }\n",
       "\n",
       "    .dataframe tbody tr th {\n",
       "        vertical-align: top;\n",
       "    }\n",
       "\n",
       "    .dataframe thead th {\n",
       "        text-align: right;\n",
       "    }\n",
       "</style>\n",
       "<table border=\"1\" class=\"dataframe\">\n",
       "  <thead>\n",
       "    <tr style=\"text-align: right;\">\n",
       "      <th></th>\n",
       "      <th>tmathssk</th>\n",
       "      <th>treadssk</th>\n",
       "      <th>classk</th>\n",
       "      <th>totexpk</th>\n",
       "      <th>sex</th>\n",
       "      <th>freelunk</th>\n",
       "      <th>race</th>\n",
       "      <th>schidkn</th>\n",
       "      <th>school_name</th>\n",
       "      <th>county</th>\n",
       "    </tr>\n",
       "  </thead>\n",
       "  <tbody>\n",
       "    <tr>\n",
       "      <th>0</th>\n",
       "      <td>473</td>\n",
       "      <td>447</td>\n",
       "      <td>small.class</td>\n",
       "      <td>7</td>\n",
       "      <td>girl</td>\n",
       "      <td>no</td>\n",
       "      <td>white</td>\n",
       "      <td>63</td>\n",
       "      <td>Ridgeville</td>\n",
       "      <td>New Liberty</td>\n",
       "    </tr>\n",
       "    <tr>\n",
       "      <th>1</th>\n",
       "      <td>536</td>\n",
       "      <td>450</td>\n",
       "      <td>small.class</td>\n",
       "      <td>21</td>\n",
       "      <td>girl</td>\n",
       "      <td>no</td>\n",
       "      <td>black</td>\n",
       "      <td>20</td>\n",
       "      <td>South Heights</td>\n",
       "      <td>Selmont</td>\n",
       "    </tr>\n",
       "    <tr>\n",
       "      <th>2</th>\n",
       "      <td>463</td>\n",
       "      <td>439</td>\n",
       "      <td>regular.with.aide</td>\n",
       "      <td>0</td>\n",
       "      <td>boy</td>\n",
       "      <td>yes</td>\n",
       "      <td>black</td>\n",
       "      <td>19</td>\n",
       "      <td>Bunnlevel</td>\n",
       "      <td>Sattley</td>\n",
       "    </tr>\n",
       "    <tr>\n",
       "      <th>3</th>\n",
       "      <td>559</td>\n",
       "      <td>448</td>\n",
       "      <td>regular</td>\n",
       "      <td>16</td>\n",
       "      <td>boy</td>\n",
       "      <td>no</td>\n",
       "      <td>white</td>\n",
       "      <td>69</td>\n",
       "      <td>Hokah</td>\n",
       "      <td>Gallipolis</td>\n",
       "    </tr>\n",
       "    <tr>\n",
       "      <th>4</th>\n",
       "      <td>489</td>\n",
       "      <td>447</td>\n",
       "      <td>small.class</td>\n",
       "      <td>5</td>\n",
       "      <td>boy</td>\n",
       "      <td>yes</td>\n",
       "      <td>white</td>\n",
       "      <td>79</td>\n",
       "      <td>Lake Mathews</td>\n",
       "      <td>Sugar Mountain</td>\n",
       "    </tr>\n",
       "  </tbody>\n",
       "</table>\n",
       "</div>"
      ],
      "text/plain": [
       "   tmathssk  treadssk             classk  totexpk   sex freelunk   race  \\\n",
       "0       473       447        small.class        7  girl       no  white   \n",
       "1       536       450        small.class       21  girl       no  black   \n",
       "2       463       439  regular.with.aide        0   boy      yes  black   \n",
       "3       559       448            regular       16   boy       no  white   \n",
       "4       489       447        small.class        5   boy      yes  white   \n",
       "\n",
       "   schidkn    school_name          county  \n",
       "0       63     Ridgeville     New Liberty  \n",
       "1       20  South Heights         Selmont  \n",
       "2       19      Bunnlevel         Sattley  \n",
       "3       69          Hokah      Gallipolis  \n",
       "4       79   Lake Mathews  Sugar Mountain  "
      ]
     },
     "execution_count": 18,
     "metadata": {},
     "output_type": "execute_result"
    }
   ],
   "source": [
    "star = pd.read_excel('datasets/star/star.xlsx')\n",
    "districts = pd.read_csv('datasets/star/districts.csv')\n",
    "star.merge(districts, how='left').head()"
   ]
  },
  {
   "cell_type": "code",
   "execution_count": 19,
   "metadata": {},
   "outputs": [
    {
     "data": {
      "text/html": [
       "<div>\n",
       "<style scoped>\n",
       "    .dataframe tbody tr th:only-of-type {\n",
       "        vertical-align: middle;\n",
       "    }\n",
       "\n",
       "    .dataframe tbody tr th {\n",
       "        vertical-align: top;\n",
       "    }\n",
       "\n",
       "    .dataframe thead th {\n",
       "        text-align: right;\n",
       "    }\n",
       "</style>\n",
       "<table border=\"1\" class=\"dataframe\">\n",
       "  <thead>\n",
       "    <tr style=\"text-align: right;\">\n",
       "      <th></th>\n",
       "      <th>schidkn</th>\n",
       "      <th>test_type</th>\n",
       "      <th>score</th>\n",
       "    </tr>\n",
       "  </thead>\n",
       "  <tbody>\n",
       "    <tr>\n",
       "      <th>0</th>\n",
       "      <td>63</td>\n",
       "      <td>tmathssk</td>\n",
       "      <td>473</td>\n",
       "    </tr>\n",
       "    <tr>\n",
       "      <th>1</th>\n",
       "      <td>20</td>\n",
       "      <td>tmathssk</td>\n",
       "      <td>536</td>\n",
       "    </tr>\n",
       "    <tr>\n",
       "      <th>2</th>\n",
       "      <td>19</td>\n",
       "      <td>tmathssk</td>\n",
       "      <td>463</td>\n",
       "    </tr>\n",
       "    <tr>\n",
       "      <th>3</th>\n",
       "      <td>69</td>\n",
       "      <td>tmathssk</td>\n",
       "      <td>559</td>\n",
       "    </tr>\n",
       "    <tr>\n",
       "      <th>4</th>\n",
       "      <td>79</td>\n",
       "      <td>tmathssk</td>\n",
       "      <td>489</td>\n",
       "    </tr>\n",
       "  </tbody>\n",
       "</table>\n",
       "</div>"
      ],
      "text/plain": [
       "   schidkn test_type  score\n",
       "0       63  tmathssk    473\n",
       "1       20  tmathssk    536\n",
       "2       19  tmathssk    463\n",
       "3       69  tmathssk    559\n",
       "4       79  tmathssk    489"
      ]
     },
     "execution_count": 19,
     "metadata": {},
     "output_type": "execute_result"
    }
   ],
   "source": [
    "star_pivot = pd.melt(frame=star, id_vars = 'schidkn', \n",
    "        value_vars=['tmathssk','treadssk'], value_name='score', var_name='test_type')\n",
    "star_pivot.head()"
   ]
  },
  {
   "cell_type": "code",
   "execution_count": 20,
   "metadata": {},
   "outputs": [
    {
     "data": {
      "text/plain": [
       "array(['math', 'reading'], dtype=object)"
      ]
     },
     "execution_count": 20,
     "metadata": {},
     "output_type": "execute_result"
    }
   ],
   "source": [
    "# Rename records in `test_type`\n",
    "mapping = {'tmathssk':'math','treadssk':'reading'}\n",
    "star_pivot['test_type'] = star_pivot['test_type'].map(mapping)\n",
    "\n",
    "\n",
    "# Find unique values in test_type\n",
    "star_pivot['test_type'].unique()"
   ]
  },
  {
   "cell_type": "code",
   "execution_count": 21,
   "metadata": {},
   "outputs": [
    {
     "data": {
      "text/html": [
       "<div>\n",
       "<style scoped>\n",
       "    .dataframe tbody tr th:only-of-type {\n",
       "        vertical-align: middle;\n",
       "    }\n",
       "\n",
       "    .dataframe tbody tr th {\n",
       "        vertical-align: top;\n",
       "    }\n",
       "\n",
       "    .dataframe thead th {\n",
       "        text-align: right;\n",
       "    }\n",
       "</style>\n",
       "<table border=\"1\" class=\"dataframe\">\n",
       "  <thead>\n",
       "    <tr style=\"text-align: right;\">\n",
       "      <th>test_type</th>\n",
       "      <th>schidkn</th>\n",
       "      <th>math</th>\n",
       "      <th>reading</th>\n",
       "    </tr>\n",
       "  </thead>\n",
       "  <tbody>\n",
       "    <tr>\n",
       "      <th>0</th>\n",
       "      <td>1</td>\n",
       "      <td>492.272727</td>\n",
       "      <td>443.848485</td>\n",
       "    </tr>\n",
       "    <tr>\n",
       "      <th>1</th>\n",
       "      <td>2</td>\n",
       "      <td>450.576923</td>\n",
       "      <td>407.153846</td>\n",
       "    </tr>\n",
       "    <tr>\n",
       "      <th>2</th>\n",
       "      <td>3</td>\n",
       "      <td>491.452632</td>\n",
       "      <td>441.000000</td>\n",
       "    </tr>\n",
       "    <tr>\n",
       "      <th>3</th>\n",
       "      <td>4</td>\n",
       "      <td>467.689655</td>\n",
       "      <td>421.620690</td>\n",
       "    </tr>\n",
       "    <tr>\n",
       "      <th>4</th>\n",
       "      <td>5</td>\n",
       "      <td>460.084746</td>\n",
       "      <td>427.593220</td>\n",
       "    </tr>\n",
       "    <tr>\n",
       "      <th>...</th>\n",
       "      <td>...</td>\n",
       "      <td>...</td>\n",
       "      <td>...</td>\n",
       "    </tr>\n",
       "    <tr>\n",
       "      <th>74</th>\n",
       "      <td>75</td>\n",
       "      <td>504.329268</td>\n",
       "      <td>440.036585</td>\n",
       "    </tr>\n",
       "    <tr>\n",
       "      <th>75</th>\n",
       "      <td>76</td>\n",
       "      <td>490.260417</td>\n",
       "      <td>431.666667</td>\n",
       "    </tr>\n",
       "    <tr>\n",
       "      <th>76</th>\n",
       "      <td>78</td>\n",
       "      <td>468.457627</td>\n",
       "      <td>417.983051</td>\n",
       "    </tr>\n",
       "    <tr>\n",
       "      <th>77</th>\n",
       "      <td>79</td>\n",
       "      <td>490.500000</td>\n",
       "      <td>434.451613</td>\n",
       "    </tr>\n",
       "    <tr>\n",
       "      <th>78</th>\n",
       "      <td>80</td>\n",
       "      <td>490.037037</td>\n",
       "      <td>442.537037</td>\n",
       "    </tr>\n",
       "  </tbody>\n",
       "</table>\n",
       "<p>79 rows × 3 columns</p>\n",
       "</div>"
      ],
      "text/plain": [
       "test_type  schidkn        math     reading\n",
       "0                1  492.272727  443.848485\n",
       "1                2  450.576923  407.153846\n",
       "2                3  491.452632  441.000000\n",
       "3                4  467.689655  421.620690\n",
       "4                5  460.084746  427.593220\n",
       "..             ...         ...         ...\n",
       "74              75  504.329268  440.036585\n",
       "75              76  490.260417  431.666667\n",
       "76              78  468.457627  417.983051\n",
       "77              79  490.500000  434.451613\n",
       "78              80  490.037037  442.537037\n",
       "\n",
       "[79 rows x 3 columns]"
      ]
     },
     "execution_count": 21,
     "metadata": {},
     "output_type": "execute_result"
    }
   ],
   "source": [
    "star_pivot.pivot_table(index='schidkn', \n",
    "                       columns='test_type', values='score').reset_index()"
   ]
  },
  {
   "cell_type": "code",
   "execution_count": 22,
   "metadata": {},
   "outputs": [
    {
     "data": {
      "text/plain": [
       "<AxesSubplot:xlabel='classk', ylabel='count'>"
      ]
     },
     "execution_count": 22,
     "metadata": {},
     "output_type": "execute_result"
    },
    {
     "data": {
      "image/png": "[encoded data removed]",
      "text/plain": [
       "<Figure size 432x288 with 1 Axes>"
      ]
     },
     "metadata": {
      "needs_background": "light"
     },
     "output_type": "display_data"
    }
   ],
   "source": [
    "sns.countplot(x='classk', data=star)"
   ]
  },
  {
   "cell_type": "code",
   "execution_count": 30,
   "metadata": {},
   "outputs": [
    {
     "data": {
      "image/png": "[encoded data removed]",
      "text/plain": [
       "<Figure size 360x360 with 1 Axes>"
      ]
     },
     "metadata": {
      "needs_background": "light"
     },
     "output_type": "display_data"
    }
   ],
   "source": [
    "sns.displot(x='treadssk', data=star)\n",
    "plt.savefig('aina_1202.png', dpi=300)"
   ]
  },
  {
   "cell_type": "code",
   "execution_count": 24,
   "metadata": {},
   "outputs": [
    {
     "data": {
      "text/plain": [
       "<seaborn.axisgrid.FacetGrid at 0x27bf12a6f48>"
      ]
     },
     "execution_count": 24,
     "metadata": {},
     "output_type": "execute_result"
    },
    {
     "data": {
      "image/png": "[encoded data removed]",
      "text/plain": [
       "<Figure size 360x360 with 1 Axes>"
      ]
     },
     "metadata": {
      "needs_background": "light"
     },
     "output_type": "display_data"
    }
   ],
   "source": [
    "sns.displot(x='treadssk', data=star, bins=25, color='pink')"
   ]
  },
  {
   "cell_type": "code",
   "execution_count": 25,
   "metadata": {},
   "outputs": [
    {
     "data": {
      "text/plain": [
       "<AxesSubplot:xlabel='treadssk'>"
      ]
     },
     "execution_count": 25,
     "metadata": {},
     "output_type": "execute_result"
    },
    {
     "data": {
      "image/png": "[encoded data removed]",
      "text/plain": [
       "<Figure size 432x288 with 1 Axes>"
      ]
     },
     "metadata": {
      "needs_background": "light"
     },
     "output_type": "display_data"
    }
   ],
   "source": [
    "sns.boxplot(x='treadssk', data=star)"
   ]
  },
  {
   "cell_type": "code",
   "execution_count": 26,
   "metadata": {},
   "outputs": [
    {
     "data": {
      "text/plain": [
       "<AxesSubplot:ylabel='treadssk'>"
      ]
     },
     "execution_count": 26,
     "metadata": {},
     "output_type": "execute_result"
    },
    {
     "data": {
      "image/png": "[encoded data removed]",
      "text/plain": [
       "<Figure size 432x288 with 1 Axes>"
      ]
     },
     "metadata": {
      "needs_background": "light"
     },
     "output_type": "display_data"
    }
   ],
   "source": [
    "sns.boxplot(y='treadssk', data=star)"
   ]
  },
  {
   "cell_type": "code",
   "execution_count": 27,
   "metadata": {},
   "outputs": [
    {
     "data": {
      "text/plain": [
       "<AxesSubplot:xlabel='classk', ylabel='treadssk'>"
      ]
     },
     "execution_count": 27,
     "metadata": {},
     "output_type": "execute_result"
    },
    {
     "data": {
      "image/png": "[encoded data removed]",
      "text/plain": [
       "<Figure size 432x288 with 1 Axes>"
      ]
     },
     "metadata": {
      "needs_background": "light"
     },
     "output_type": "display_data"
    }
   ],
   "source": [
    "sns.boxplot(x='classk', y='treadssk', data=star)"
   ]
  },
  {
   "cell_type": "code",
   "execution_count": 28,
   "metadata": {},
   "outputs": [
    {
     "data": {
      "text/plain": [
       "<AxesSubplot:xlabel='tmathssk', ylabel='treadssk'>"
      ]
     },
     "execution_count": 28,
     "metadata": {},
     "output_type": "execute_result"
    },
    {
     "data": {
      "image/png": "[encoded data removed]",
      "text/plain": [
       "<Figure size 432x288 with 1 Axes>"
      ]
     },
     "metadata": {
      "needs_background": "light"
     },
     "output_type": "display_data"
    }
   ],
   "source": [
    "sns.scatterplot(x='tmathssk', y='treadssk', data=star)"
   ]
  },
  {
   "cell_type": "code",
   "execution_count": 29,
   "metadata": {},
   "outputs": [
    {
     "data": {
      "text/plain": [
       "Text(0.5, 1.0, 'Math score versus reading score')"
      ]
     },
     "execution_count": 29,
     "metadata": {},
     "output_type": "execute_result"
    },
    {
     "data": {
      "image/png": "[encoded data removed]",
      "text/plain": [
       "<Figure size 432x288 with 1 Axes>"
      ]
     },
     "metadata": {
      "needs_background": "light"
     },
     "output_type": "display_data"
    }
   ],
   "source": [
    "sns.scatterplot(x='tmathssk', y='treadssk', data=star)\n",
    "plt.xlabel('Math score')\n",
    "plt.ylabel('Reading score')\n",
    "plt.title('Math score versus reading score')"
   ]
  }
 ],
 "metadata": {
  "kernelspec": {
   "display_name": "Python 3 (ipykernel)",
   "language": "python",
   "name": "python3"
  },
  "language_info": {
   "codemirror_mode": {
    "name": "ipython",
    "version": 3
   },
   "file_extension": ".py",
   "mimetype": "text/x-python",
   "name": "python",
   "nbconvert_exporter": "python",
   "pygments_lexer": "ipython3",
   "version": "3.9.16"
  }
 },
 "nbformat": 4,
 "nbformat_minor": 2
}
