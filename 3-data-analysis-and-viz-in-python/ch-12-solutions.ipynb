{
 "cells": [
  {
   "cell_type": "code",
   "execution_count": null,
   "metadata": {},
   "outputs": [],
   "source": [
    "import pandas as pd\n",
    "import seaborn as sns\n",
    "import matplotlib.pyplot as plt"
   ]
  },
  {
   "cell_type": "code",
   "execution_count": null,
   "metadata": {},
   "outputs": [],
   "source": [
    "census = pd.read_csv('../datasets/census/census.csv')\n",
    "census.head()"
   ]
  },
  {
   "cell_type": "code",
   "execution_count": null,
   "metadata": {},
   "outputs": [],
   "source": [
    "divisions = pd.read_csv('../datasets/census/census-divisions.csv')\n",
    "divisions.head()"
   ]
  },
  {
   "cell_type": "code",
   "execution_count": null,
   "metadata": {},
   "outputs": [],
   "source": [
    "# 1. Merge data before continuing\n",
    "census = census.merge(divisions, how='left')\n",
    "census.head()"
   ]
  },
  {
   "cell_type": "code",
   "execution_count": null,
   "metadata": {},
   "outputs": [],
   "source": [
    "# 1. Sort the data by region ascending, division ascending and population descending.\n",
    "census_sorted = census.sort_values(by=['region','division','population'], ascending=[True,True,False])\n",
    "census_sorted.head()\n",
    "\n",
    "# Write the results to an Excel worksheet. \n",
    "census_sorted.to_excel('../datasets/census/solutions-data/census-sorted.xlsx')"
   ]
  },
  {
   "cell_type": "code",
   "execution_count": null,
   "metadata": {},
   "outputs": [],
   "source": [
    "# 2. Drop the postal code field from your merged dataset.\n",
    "census = census.drop('postal_code', axis=1)\n",
    "census.head()"
   ]
  },
  {
   "cell_type": "code",
   "execution_count": null,
   "metadata": {},
   "outputs": [],
   "source": [
    "# 3. Create a new column _density_ which is a calculation of population divided by land area. \n",
    "census['density'] = census['population']/census['land_area']\n",
    "census.head()"
   ]
  },
  {
   "cell_type": "code",
   "execution_count": null,
   "metadata": {},
   "outputs": [],
   "source": [
    "# 4. Visualize the relationship between  land area  and  population for all observations in 2015. \n",
    "## Set up data\n",
    "census_2015 = census[census['year']==2015]\n",
    "census_2015.head()"
   ]
  },
  {
   "cell_type": "code",
   "execution_count": null,
   "metadata": {},
   "outputs": [],
   "source": [
    "## Make scatterplot\n",
    "sns.scatterplot(x='land_area', y='population', data=census_2015)"
   ]
  },
  {
   "cell_type": "code",
   "execution_count": null,
   "metadata": {},
   "outputs": [],
   "source": [
    "## Let's sort our data by land area to see the extreme values...\n",
    "census_2015.sort_values(by='land_area', ascending=False).head()"
   ]
  },
  {
   "cell_type": "code",
   "execution_count": null,
   "metadata": {},
   "outputs": [],
   "source": [
    "# 5. Find the total population for each region in 2015. \n",
    "census_2015[['region','population']].groupby('region').sum()"
   ]
  },
  {
   "cell_type": "code",
   "execution_count": null,
   "metadata": {},
   "outputs": [],
   "source": [
    "# 6. Create a table containing state names and populations,\n",
    "# with the population for each year 2010-2015 kept in an individual column. \n",
    "census.pivot_table(index='state', columns='year', values='population').reset_index()"
   ]
  },
  {
   "cell_type": "code",
   "execution_count": null,
   "metadata": {},
   "outputs": [],
   "source": []
  }
 ],
 "metadata": {
  "kernelspec": {
   "display_name": "Python 3",
   "language": "python",
   "name": "python3"
  },
  "language_info": {
   "codemirror_mode": {
    "name": "ipython",
    "version": 3
   },
   "file_extension": ".py",
   "mimetype": "text/x-python",
   "name": "python",
   "nbconvert_exporter": "python",
   "pygments_lexer": "ipython3",
   "version": "3.7.9"
  }
 },
 "nbformat": 4,
 "nbformat_minor": 2
}
