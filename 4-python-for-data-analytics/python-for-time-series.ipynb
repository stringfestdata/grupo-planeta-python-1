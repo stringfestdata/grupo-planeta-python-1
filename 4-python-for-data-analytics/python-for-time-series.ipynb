{
 "cells": [
  {
   "cell_type": "markdown",
   "id": "7c9862d8",
   "metadata": {},
   "source": [
    "## Missing values"
   ]
  },
  {
   "cell_type": "code",
   "execution_count": 1,
   "id": "8126278b",
   "metadata": {},
   "outputs": [],
   "source": [
    "import pandas as pd\n",
    "import seaborn as sns\n",
    "\n",
    "# pip install vega_datasets\n",
    "from vega_datasets import local_data"
   ]
  },
  {
   "cell_type": "markdown",
   "id": "73464ff7",
   "metadata": {},
   "source": [
    "## Missing values"
   ]
  },
  {
   "cell_type": "code",
   "execution_count": 2,
   "id": "aafa1cfc",
   "metadata": {},
   "outputs": [
    {
     "data": {
      "text/html": [
       "<div>\n",
       "<style scoped>\n",
       "    .dataframe tbody tr th:only-of-type {\n",
       "        vertical-align: middle;\n",
       "    }\n",
       "\n",
       "    .dataframe tbody tr th {\n",
       "        vertical-align: top;\n",
       "    }\n",
       "\n",
       "    .dataframe thead th {\n",
       "        text-align: right;\n",
       "    }\n",
       "</style>\n",
       "<table border=\"1\" class=\"dataframe\">\n",
       "  <thead>\n",
       "    <tr style=\"text-align: right;\">\n",
       "      <th></th>\n",
       "      <th>species</th>\n",
       "      <th>island</th>\n",
       "      <th>bill_length_mm</th>\n",
       "      <th>bill_depth_mm</th>\n",
       "      <th>flipper_length_mm</th>\n",
       "      <th>body_mass_g</th>\n",
       "      <th>sex</th>\n",
       "    </tr>\n",
       "  </thead>\n",
       "  <tbody>\n",
       "    <tr>\n",
       "      <th>0</th>\n",
       "      <td>Adelie</td>\n",
       "      <td>Torgersen</td>\n",
       "      <td>39.1</td>\n",
       "      <td>18.7</td>\n",
       "      <td>181.0</td>\n",
       "      <td>3750.0</td>\n",
       "      <td>Male</td>\n",
       "    </tr>\n",
       "    <tr>\n",
       "      <th>1</th>\n",
       "      <td>Adelie</td>\n",
       "      <td>Torgersen</td>\n",
       "      <td>39.5</td>\n",
       "      <td>17.4</td>\n",
       "      <td>186.0</td>\n",
       "      <td>3800.0</td>\n",
       "      <td>Female</td>\n",
       "    </tr>\n",
       "    <tr>\n",
       "      <th>2</th>\n",
       "      <td>Adelie</td>\n",
       "      <td>Torgersen</td>\n",
       "      <td>40.3</td>\n",
       "      <td>18.0</td>\n",
       "      <td>195.0</td>\n",
       "      <td>3250.0</td>\n",
       "      <td>Female</td>\n",
       "    </tr>\n",
       "    <tr>\n",
       "      <th>3</th>\n",
       "      <td>Adelie</td>\n",
       "      <td>Torgersen</td>\n",
       "      <td>NaN</td>\n",
       "      <td>NaN</td>\n",
       "      <td>NaN</td>\n",
       "      <td>NaN</td>\n",
       "      <td>NaN</td>\n",
       "    </tr>\n",
       "    <tr>\n",
       "      <th>4</th>\n",
       "      <td>Adelie</td>\n",
       "      <td>Torgersen</td>\n",
       "      <td>36.7</td>\n",
       "      <td>19.3</td>\n",
       "      <td>193.0</td>\n",
       "      <td>3450.0</td>\n",
       "      <td>Female</td>\n",
       "    </tr>\n",
       "  </tbody>\n",
       "</table>\n",
       "</div>"
      ],
      "text/plain": [
       "  species     island  bill_length_mm  bill_depth_mm  flipper_length_mm  \\\n",
       "0  Adelie  Torgersen            39.1           18.7              181.0   \n",
       "1  Adelie  Torgersen            39.5           17.4              186.0   \n",
       "2  Adelie  Torgersen            40.3           18.0              195.0   \n",
       "3  Adelie  Torgersen             NaN            NaN                NaN   \n",
       "4  Adelie  Torgersen            36.7           19.3              193.0   \n",
       "\n",
       "   body_mass_g     sex  \n",
       "0       3750.0    Male  \n",
       "1       3800.0  Female  \n",
       "2       3250.0  Female  \n",
       "3          NaN     NaN  \n",
       "4       3450.0  Female  "
      ]
     },
     "execution_count": 2,
     "metadata": {},
     "output_type": "execute_result"
    }
   ],
   "source": [
    "import pandas as pd\n",
    "import seaborn as sns\n",
    "import numpy as np\n",
    "\n",
    "# pip install missingno\n",
    "import missingno as mn\n",
    "\n",
    "penguins = sns.load_dataset('penguins')\n",
    "penguins.head()"
   ]
  },
  {
   "cell_type": "markdown",
   "id": "7b98367b",
   "metadata": {},
   "source": [
    "# Common Front Office Calculations\n",
    "\n",
    "\n",
    "**Common Front Office Calculations**\n",
    "- Normalized prices\n",
    "- the log of returns\n",
    "- Daily Percentage Change\n",
    "- Cumulative returns\n",
    "- macd - Moving Average Convergence/Divergence"
   ]
  },
  {
   "cell_type": "code",
   "execution_count": 3,
   "id": "0216c5d5",
   "metadata": {},
   "outputs": [],
   "source": [
    "import pandas as pd\n",
    "import numpy as np\n",
    "\n",
    "# Load in the famous FANG stocks, make sure the index is the Date and it's sorted ascending\n",
    "df_FB = pd.read_excel(io='https://s3.eu-west-1.amazonaws.com/neueda.conygre.com/pydata/market_data.xls', sheet_name='FB', parse_dates=True, index_col='Date')\n",
    "df_AMZN = pd.read_excel(io='https://s3.eu-west-1.amazonaws.com/neueda.conygre.com/pydata/market_data.xls', sheet_name='AMZN', parse_dates=True, index_col='Date')\n",
    "df_AAPL = pd.read_excel(io='https://s3.eu-west-1.amazonaws.com/neueda.conygre.com/pydata/market_data.xls', sheet_name='AAPL', parse_dates=True, index_col='Date')"
   ]
  },
  {
   "cell_type": "markdown",
   "id": "92dfc21e",
   "metadata": {},
   "source": [
    "## Visualizing Returns"
   ]
  },
  {
   "cell_type": "markdown",
   "id": "850226ac",
   "metadata": {},
   "source": [
    "### 1 - Look at the  Closing Prices"
   ]
  },
  {
   "cell_type": "code",
   "execution_count": null,
   "id": "2d503a85",
   "metadata": {
    "tags": [
     "student_to_fill"
    ]
   },
   "outputs": [],
   "source": []
  },
  {
   "cell_type": "markdown",
   "id": "b686a698",
   "metadata": {},
   "source": [
    "### 2 - Look at Normalized Prices\n",
    "\n",
    "The difference between price(t0) and price (t+1)\n",
    "\n",
    "This is the same as cumulative daily returns\n",
    "\n",
    "<!-- Is there a better way to do this? -->"
   ]
  },
  {
   "cell_type": "code",
   "execution_count": null,
   "id": "5101d0b3",
   "metadata": {
    "scrolled": true,
    "tags": [
     "student_to_fill"
    ]
   },
   "outputs": [],
   "source": []
  },
  {
   "cell_type": "markdown",
   "id": "c41b5419",
   "metadata": {},
   "source": [
    "### 3 - Look at Returns\n",
    "\n",
    "- When calculating the return of an investment or position, the product of daily returns can be used.\n",
    "\n",
    "- This allows a direct comparison to be made between different instruments\n",
    "\n",
    "- This is a very simple value to arrive at\n",
    "\n",
    "- price / price(t-1)\n",
    "\n",
    "- price(t-1) arrived at by using the time shift functions\n",
    "\n",
    "- Use the `cumprod()` function to arrive at the payoff\n",
    "\n"
   ]
  },
  {
   "cell_type": "code",
   "execution_count": null,
   "id": "2ca0ea8a",
   "metadata": {
    "tags": [
     "student_to_fill"
    ]
   },
   "outputs": [],
   "source": []
  },
  {
   "cell_type": "code",
   "execution_count": null,
   "id": "c48355dc",
   "metadata": {
    "tags": [
     "student_to_fill"
    ]
   },
   "outputs": [],
   "source": []
  },
  {
   "cell_type": "markdown",
   "id": "167a2f13",
   "metadata": {},
   "source": [
    "### 4 - Look at the Log of the Daily Returns\n",
    "\n",
    "- Log of returns is time additive and so can summed over any periods. (<a href=\"https://www.youtube.com/watch?v=PtoUlt3V0CI\" target=\"_blank\">Brief explanation of log of returns</a>)\n",
    "\n",
    "- Used more frequently than product of returns (above)\n",
    "\n",
    "- When calculating the return of an investment or position, an accumulation of the log of daily returns is used.\n",
    "\n",
    "- This allows a direct comparison to be made between different instruments\n",
    "\n",
    "- This is a very simple value to arrive at\n",
    "\n",
    "- log (price / price(t-1))\n",
    "\n",
    "- Use a combination of np.log and the time shift functions\n",
    "\n",
    "- Use the **cumsum()** function to arrive at the payoff\n",
    "\n",
    "- Where there is a choice between adjusted and unadjusted, use the Adjusted values (e.g. AdjOpen, AdjVolume, etc.)\n",
    "\n",
    "\n",
    "- Note the use of the `apply` function - this sends every value in a column to another function. In this case we send every value to the numpy `exp` function."
   ]
  },
  {
   "cell_type": "code",
   "execution_count": null,
   "id": "cd0407f3",
   "metadata": {
    "tags": [
     "student_to_fill"
    ]
   },
   "outputs": [],
   "source": []
  },
  {
   "cell_type": "markdown",
   "id": "4769fcea",
   "metadata": {},
   "source": [
    "### 5 - Look at Cumulative Returns\n",
    "\n",
    "The formula for a cumulative daily return is:\n",
    "\n",
    "$ i_i = (1+r_t) * i_{t-1} $\n",
    "\n",
    "Reached by multiplying previous investment at i at t-1 by 1+ percent returns. <BR>\n",
    "Easy to calculate using pandas with its `cumprod()` method. \n"
   ]
  },
  {
   "cell_type": "code",
   "execution_count": null,
   "id": "6878eab2",
   "metadata": {
    "tags": [
     "student_to_fill"
    ]
   },
   "outputs": [],
   "source": []
  },
  {
   "cell_type": "markdown",
   "id": "89a613ba",
   "metadata": {},
   "source": [
    "## Daily Percentage Change\n",
    "\n",
    "Defined by the following formula: $ r_t = \\frac{p_t}{p_{t-1}} -1$ <BR>\n",
    "    \n",
    ">\n",
    "> The percent gain (or loss) if you bought the stock on day and then sold it the next day. <BR>\n",
    "> Very useful in analyzing the volatility of the stock. <BR>\n",
    "> A wide distribution implies the stock is more volatile from one day to the next<BR>\n",
    ">\n",
    "    \n",
    "2 Methods\n",
    "- Use `shift()`\n",
    "- Use built in `pct_change()`"
   ]
  },
  {
   "cell_type": "code",
   "execution_count": null,
   "id": "67e2d13c",
   "metadata": {
    "tags": [
     "student_to_fill"
    ]
   },
   "outputs": [],
   "source": []
  },
  {
   "cell_type": "code",
   "execution_count": null,
   "id": "117bdc16",
   "metadata": {
    "tags": [
     "student_to_fill"
    ]
   },
   "outputs": [],
   "source": []
  },
  {
   "cell_type": "markdown",
   "id": "d4060253",
   "metadata": {},
   "source": [
    "# Correlation and Co-Variance\n",
    "\n",
    "A quick reminder....\n",
    "\n",
    "Covariance measures whether a variation in one variable results in a variation in another variable; for example, looking at whether an increase in one variable results in an increase, decrease, or no change in the other variable.\n",
    "\n",
    "Correlation measures the direction as well as the strength of the relationship between two variables (i.e. how strongly these two variables are related to each other).\n",
    "\n",
    "- Pandas has some convenient built-ins for calculating these.\n",
    "\n",
    "- We'll Use some previous datasets for demonstration.\n",
    "\n",
    "- Calculate the correlation and covariance between the daily percentage change of the Adjusted Close price of FANG Stocks and Gold Futures.\n",
    "\n",
    "- Display the correlation\n",
    "\n",
    "- Calculate the covariance of the same data"
   ]
  },
  {
   "cell_type": "code",
   "execution_count": null,
   "id": "eb76a497",
   "metadata": {},
   "outputs": [],
   "source": []
  },
  {
   "cell_type": "markdown",
   "id": "8ac2fbfa",
   "metadata": {},
   "source": [
    "## Calculate correlation and covariance\n",
    "\n",
    "- Use the **corr()** function\n",
    "- Use the **cov()** function\n",
    "\n"
   ]
  },
  {
   "cell_type": "code",
   "execution_count": null,
   "id": "620147bb",
   "metadata": {
    "tags": [
     "student_to_fill"
    ]
   },
   "outputs": [],
   "source": [
    "\n"
   ]
  },
  {
   "cell_type": "markdown",
   "id": "80d282dd",
   "metadata": {},
   "source": [
    "## Use a scatter plot to display a visual of correlation\n"
   ]
  },
  {
   "cell_type": "code",
   "execution_count": null,
   "id": "8fb17d05",
   "metadata": {},
   "outputs": [],
   "source": []
  },
  {
   "cell_type": "markdown",
   "id": "47475a1d",
   "metadata": {},
   "source": [
    "## Rolling Correlations"
   ]
  },
  {
   "cell_type": "markdown",
   "id": "96e7c349",
   "metadata": {},
   "source": [
    "Here we're using the `rolling` function from Pandas. This gives a rolling window over the last X samples. An aggregate function can then be applied to that rolling window.\n",
    "\n",
    "Similar to the cumulative functions (cumsum, cumprod etc.) However in this case the window size remains fixed."
   ]
  },
  {
   "cell_type": "code",
   "execution_count": null,
   "id": "1acc1aa3",
   "metadata": {
    "tags": [
     "student_to_fill"
    ]
   },
   "outputs": [],
   "source": []
  },
  {
   "cell_type": "code",
   "execution_count": null,
   "id": "8e7f4da6",
   "metadata": {
    "tags": [
     "student_to_fill"
    ]
   },
   "outputs": [],
   "source": []
  },
  {
   "cell_type": "markdown",
   "id": "804a99af",
   "metadata": {},
   "source": [
    "## Rolling Covariances"
   ]
  },
  {
   "cell_type": "code",
   "execution_count": null,
   "id": "66ec56d9",
   "metadata": {
    "tags": [
     "student_to_fill"
    ]
   },
   "outputs": [],
   "source": []
  },
  {
   "cell_type": "code",
   "execution_count": null,
   "id": "0ace67e9",
   "metadata": {
    "scrolled": true,
    "tags": [
     "student_to_fill"
    ]
   },
   "outputs": [],
   "source": []
  },
  {
   "cell_type": "code",
   "execution_count": null,
   "id": "6ed167d5",
   "metadata": {},
   "outputs": [],
   "source": []
  }
 ],
 "metadata": {
  "kernelspec": {
   "display_name": "Python 3 (ipykernel)",
   "language": "python",
   "name": "python3"
  },
  "language_info": {
   "codemirror_mode": {
    "name": "ipython",
    "version": 3
   },
   "file_extension": ".py",
   "mimetype": "text/x-python",
   "name": "python",
   "nbconvert_exporter": "python",
   "pygments_lexer": "ipython3",
   "version": "3.9.12"
  }
 },
 "nbformat": 4,
 "nbformat_minor": 5
}
